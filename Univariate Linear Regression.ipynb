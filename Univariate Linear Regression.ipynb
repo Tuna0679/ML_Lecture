{
 "cells": [
  {
   "cell_type": "markdown",
   "metadata": {},
   "source": [
    "# Univariate\n",
    "1. Model representation\n",
    "$$\n",
    "h_\\Theta(x) = \\theta_1 + \\theta_2 x\n",
    "$$\n",
    "2. Cost function (similar to MSE)\n",
    "$$\n",
    "J(\\Theta) = \\frac{1}{2m} \\sum_{i=1}^m (h_\\Theta(X^{(i)} - y^{(i)})^2\n",
    "$$\n",
    "<img src = \"images\\mse.png\" width = 400>\n",
    "3. Algorithm: Gradient Descent\n",
    "\n",
    "a. Component wise\n",
    "\n",
    "Repeatedly assign (**simultaneously**)\n",
    "\\begin{equation*}\n",
    "\\theta_1 := \\theta_1 - \\alpha \\frac{\\partial J}{\\partial \\theta_1} \\tag{3a1}\n",
    "\\end{equation*}\n",
    "\n",
    "\\begin{equation*}\n",
    "\\theta_1 := \\theta_2 - \\alpha \\frac{\\partial J}{\\partial \\theta_2} \\tag{3a2}\n",
    "\\end{equation*}\n",
    "to find the $\\theta_1$ and $\\theta_2$ that return the minimum of J.\n",
    "\n",
    "\\begin{equation*}\n",
    "\\frac{\\partial J}{\\partial \\theta_1} = \\frac{\\partial}{\\partial \\theta_1} \\frac{1}{2m} \\sum_{i=1}^m (h_\\theta(x^{(i)}) - y^{(i)})^2\\\\ \n",
    "= \\frac{1}{m} \\sum_{i=1}^m x_1^{(i)}(h_\\theta(x^{(i)} - y^{(i)}) \\\\\n",
    "= \\frac{1}{m} \\sum_{i=1}^m(h_\\theta(x^{(i)} - y^{(i)})\n",
    "\\end{equation*}\n",
    "because  $x_1^{(i)} = 1$ $\\forall i $\n",
    "\n",
    "\\begin{equation*}\n",
    "\\frac{\\partial J}{\\partial \\theta_2} = \\frac{\\partial}{\\partial \\theta_2} \\frac{1}{2m} \\sum_{i=1}^m (h_\\theta(x^{(i)}) - y^{(i)})^2\\\\\n",
    "= \\frac{1}{m} \\sum_{i=1}^m   x_2^{(i)}(h_\\theta(x^{(i)} - y^{(i)})\n",
    "\\end{equation*}\n",
    "b. Vectorized\n",
    "\n",
    "$$X =  \\begin{bmatrix}\n",
    "x_1^{(1)} & x_2^{(1)}\\\\ \n",
    "x_1^{(2)} & x_2^{(2)}\\\\\n",
    "x_1^{(3)} & x_2^{(3)}\\\\\n",
    "... & ... \\\\\n",
    "x_1^{(m)} & x_2^{(m)}\\\\ \n",
    "\\end{bmatrix}$$\n",
    "\n",
    "$$\\Theta = \\begin{bmatrix}\\theta_0 \\\\ \\theta_1 \\end{bmatrix}$$\n",
    "\n",
    "$$ D = \\begin{bmatrix}\n",
    "\\frac{\\partial J}{\\partial \\theta_1} \\\\\n",
    "\\frac{\\partial J}{\\partial \\theta_2}\n",
    "\\end{bmatrix} = \\frac{1}{m}(X'(X\\Theta - y)) \n",
    "$$\n",
    "\n",
    "$\\to$ Gradient Descent Algorith: Repeat \n",
    "$\\Theta  = \\Theta  - \\alpha D$ \n",
    "until convergence\n",
    "\n"
   ]
  },
  {
   "cell_type": "markdown",
   "metadata": {},
   "source": [
    " "
   ]
  }
 ],
 "metadata": {
  "kernelspec": {
   "display_name": "Octave",
   "language": "octave",
   "name": "octave"
  },
  "language_info": {
   "file_extension": ".m",
   "help_links": [
    {
     "text": "GNU Octave",
     "url": "https://www.gnu.org/software/octave/support.html"
    },
    {
     "text": "Octave Kernel",
     "url": "https://github.com/Calysto/octave_kernel"
    },
    {
     "text": "MetaKernel Magics",
     "url": "https://github.com/calysto/metakernel/blob/master/metakernel/magics/README.md"
    }
   ],
   "mimetype": "text/x-octave",
   "name": "octave",
   "version": "4.4.1"
  }
 },
 "nbformat": 4,
 "nbformat_minor": 2
}
